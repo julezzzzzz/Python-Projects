{
 "cells": [
  {
   "cell_type": "code",
   "execution_count": 52,
   "metadata": {},
   "outputs": [],
   "source": [
    "import pandas as pd\n",
    "import praw"
   ]
  },
  {
   "cell_type": "code",
   "execution_count": 64,
   "metadata": {},
   "outputs": [],
   "source": [
    "conn = praw.Reddit(user_agent='PageScraping v0.1',\n",
    "                  client_id='',\n",
    "                  client_secret='')"
   ]
  },
  {
   "cell_type": "code",
   "execution_count": null,
   "metadata": {
    "scrolled": true
   },
   "outputs": [],
   "source": [
    "contents = []\n",
    "for submission in conn.subreddit('askreddit').top():\n",
    "    for top_level_comment in submission.comments:\n",
    "        if isinstance(top_level_comment, praw.models.MoreComments):\n",
    "            continue\n",
    "        contents.append([submission.title,submission.id,submission.author,submission.created_utc,top_level_comment.body,top_level_comment.author])"
   ]
  },
  {
   "cell_type": "code",
   "execution_count": null,
   "metadata": {
    "scrolled": false
   },
   "outputs": [],
   "source": [
    "pd.DataFrame(contents,columns=['title','thread_id','thread_author','created_date_UTC','comment','comment_author'])"
   ]
  },
  {
   "cell_type": "code",
   "execution_count": null,
   "metadata": {},
   "outputs": [],
   "source": []
  }
 ],
 "metadata": {
  "kernelspec": {
   "display_name": "Python 3",
   "language": "python",
   "name": "python3"
  },
  "language_info": {
   "codemirror_mode": {
    "name": "ipython",
    "version": 3
   },
   "file_extension": ".py",
   "mimetype": "text/x-python",
   "name": "python",
   "nbconvert_exporter": "python",
   "pygments_lexer": "ipython3",
   "version": "3.6.4"
  }
 },
 "nbformat": 4,
 "nbformat_minor": 2
}
